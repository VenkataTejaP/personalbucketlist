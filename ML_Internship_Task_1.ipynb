{
  "nbformat": 4,
  "nbformat_minor": 0,
  "metadata": {
    "colab": {
      "provenance": [],
      "authorship_tag": "ABX9TyP+Pj1LO4AYgbPqpomgZN5u",
      "include_colab_link": true
    },
    "kernelspec": {
      "name": "python3",
      "display_name": "Python 3"
    },
    "language_info": {
      "name": "python"
    }
  },
  "cells": [
    {
      "cell_type": "markdown",
      "metadata": {
        "id": "view-in-github",
        "colab_type": "text"
      },
      "source": [
        "<a href=\"https://colab.research.google.com/github/VenkataTejaP/personalbucketlist/blob/main/ML_Internship_Task_1.ipynb\" target=\"_parent\"><img src=\"https://colab.research.google.com/assets/colab-badge.svg\" alt=\"Open In Colab\"/></a>"
      ]
    },
    {
      "cell_type": "code",
      "execution_count": 3,
      "metadata": {
        "colab": {
          "base_uri": "https://localhost:8080/"
        },
        "id": "g106-GWltvek",
        "outputId": "4dd06c3b-996a-4ca6-9a92-2bd97df11ffb"
      },
      "outputs": [
        {
          "output_type": "stream",
          "name": "stdout",
          "text": [
            "      Restaurant ID           Restaurant Name  Country Code              City  \\\n",
            "0           6317637          Le Petit Souffle           162       Makati City   \n",
            "1           6304287          Izakaya Kikufuji           162       Makati City   \n",
            "2           6300002    Heat - Edsa Shangri-La           162  Mandaluyong City   \n",
            "3           6318506                      Ooma           162  Mandaluyong City   \n",
            "4           6314302               Sambo Kojin           162  Mandaluyong City   \n",
            "...             ...                       ...           ...               ...   \n",
            "9546        5915730               Naml۱ Gurme           208         ��stanbul   \n",
            "9547        5908749              Ceviz A��ac۱           208         ��stanbul   \n",
            "9548        5915807                     Huqqa           208         ��stanbul   \n",
            "9549        5916112               A���k Kahve           208         ��stanbul   \n",
            "9550        5927402  Walter's Coffee Roastery           208         ��stanbul   \n",
            "\n",
            "                                                Address  \\\n",
            "0     Third Floor, Century City Mall, Kalayaan Avenu...   \n",
            "1     Little Tokyo, 2277 Chino Roces Avenue, Legaspi...   \n",
            "2     Edsa Shangri-La, 1 Garden Way, Ortigas, Mandal...   \n",
            "3     Third Floor, Mega Fashion Hall, SM Megamall, O...   \n",
            "4     Third Floor, Mega Atrium, SM Megamall, Ortigas...   \n",
            "...                                                 ...   \n",
            "9546  Kemanke�� Karamustafa Pa��a Mahallesi, R۱ht۱m ...   \n",
            "9547  Ko��uyolu Mahallesi, Muhittin ��st�_nda�� Cadd...   \n",
            "9548  Kuru�_e��me Mahallesi, Muallim Naci Caddesi, N...   \n",
            "9549  Kuru�_e��me Mahallesi, Muallim Naci Caddesi, N...   \n",
            "9550  Cafea��a Mahallesi, Bademalt۱ Sokak, No 21/B, ...   \n",
            "\n",
            "                                        Locality  \\\n",
            "0      Century City Mall, Poblacion, Makati City   \n",
            "1     Little Tokyo, Legaspi Village, Makati City   \n",
            "2     Edsa Shangri-La, Ortigas, Mandaluyong City   \n",
            "3         SM Megamall, Ortigas, Mandaluyong City   \n",
            "4         SM Megamall, Ortigas, Mandaluyong City   \n",
            "...                                          ...   \n",
            "9546                                    Karak�_y   \n",
            "9547                                   Ko��uyolu   \n",
            "9548                                 Kuru�_e��me   \n",
            "9549                                 Kuru�_e��me   \n",
            "9550                                        Moda   \n",
            "\n",
            "                                       Locality Verbose   Longitude  \\\n",
            "0     Century City Mall, Poblacion, Makati City, Mak...  121.027535   \n",
            "1     Little Tokyo, Legaspi Village, Makati City, Ma...  121.014101   \n",
            "2     Edsa Shangri-La, Ortigas, Mandaluyong City, Ma...  121.056831   \n",
            "3     SM Megamall, Ortigas, Mandaluyong City, Mandal...  121.056475   \n",
            "4     SM Megamall, Ortigas, Mandaluyong City, Mandal...  121.057508   \n",
            "...                                                 ...         ...   \n",
            "9546                                Karak�_y, ��stanbul   28.977392   \n",
            "9547                               Ko��uyolu, ��stanbul   29.041297   \n",
            "9548                             Kuru�_e��me, ��stanbul   29.034640   \n",
            "9549                             Kuru�_e��me, ��stanbul   29.036019   \n",
            "9550                                    Moda, ��stanbul   29.026016   \n",
            "\n",
            "       Latitude                          Cuisines  ...          Currency  \\\n",
            "0     14.565443        French, Japanese, Desserts  ...  Botswana Pula(P)   \n",
            "1     14.553708                          Japanese  ...  Botswana Pula(P)   \n",
            "2     14.581404  Seafood, Asian, Filipino, Indian  ...  Botswana Pula(P)   \n",
            "3     14.585318                   Japanese, Sushi  ...  Botswana Pula(P)   \n",
            "4     14.584450                  Japanese, Korean  ...  Botswana Pula(P)   \n",
            "...         ...                               ...  ...               ...   \n",
            "9546  41.022793                           Turkish  ...  Turkish Lira(TL)   \n",
            "9547  41.009847   World Cuisine, Patisserie, Cafe  ...  Turkish Lira(TL)   \n",
            "9548  41.055817            Italian, World Cuisine  ...  Turkish Lira(TL)   \n",
            "9549  41.057979                   Restaurant Cafe  ...  Turkish Lira(TL)   \n",
            "9550  40.984776                              Cafe  ...  Turkish Lira(TL)   \n",
            "\n",
            "     Has Table booking Has Online delivery Is delivering now  \\\n",
            "0                  Yes                  No                No   \n",
            "1                  Yes                  No                No   \n",
            "2                  Yes                  No                No   \n",
            "3                   No                  No                No   \n",
            "4                  Yes                  No                No   \n",
            "...                ...                 ...               ...   \n",
            "9546                No                  No                No   \n",
            "9547                No                  No                No   \n",
            "9548                No                  No                No   \n",
            "9549                No                  No                No   \n",
            "9550                No                  No                No   \n",
            "\n",
            "     Switch to order menu Price range  Aggregate rating  Rating color  \\\n",
            "0                      No           3               4.8    Dark Green   \n",
            "1                      No           3               4.5    Dark Green   \n",
            "2                      No           4               4.4         Green   \n",
            "3                      No           4               4.9    Dark Green   \n",
            "4                      No           4               4.8    Dark Green   \n",
            "...                   ...         ...               ...           ...   \n",
            "9546                   No           3               4.1         Green   \n",
            "9547                   No           3               4.2         Green   \n",
            "9548                   No           4               3.7        Yellow   \n",
            "9549                   No           4               4.0         Green   \n",
            "9550                   No           2               4.0         Green   \n",
            "\n",
            "     Rating text Votes  \n",
            "0      Excellent   314  \n",
            "1      Excellent   591  \n",
            "2      Very Good   270  \n",
            "3      Excellent   365  \n",
            "4      Excellent   229  \n",
            "...          ...   ...  \n",
            "9546   Very Good   788  \n",
            "9547   Very Good  1034  \n",
            "9548        Good   661  \n",
            "9549   Very Good   901  \n",
            "9550   Very Good   591  \n",
            "\n",
            "[9551 rows x 21 columns]\n"
          ]
        }
      ],
      "source": [
        "import pandas as pd\n",
        "data = pd.read_csv(\"ML Dataset.csv\")\n",
        "print(data)"
      ]
    },
    {
      "cell_type": "code",
      "source": [
        "print(data.info())"
      ],
      "metadata": {
        "colab": {
          "base_uri": "https://localhost:8080/"
        },
        "id": "KeLTWhZ1t5xj",
        "outputId": "cffc9f8a-f8a9-46e4-af82-2a916943c3cc"
      },
      "execution_count": 5,
      "outputs": [
        {
          "output_type": "stream",
          "name": "stdout",
          "text": [
            "<class 'pandas.core.frame.DataFrame'>\n",
            "RangeIndex: 9551 entries, 0 to 9550\n",
            "Data columns (total 21 columns):\n",
            " #   Column                Non-Null Count  Dtype  \n",
            "---  ------                --------------  -----  \n",
            " 0   Restaurant ID         9551 non-null   int64  \n",
            " 1   Restaurant Name       9551 non-null   object \n",
            " 2   Country Code          9551 non-null   int64  \n",
            " 3   City                  9551 non-null   object \n",
            " 4   Address               9551 non-null   object \n",
            " 5   Locality              9551 non-null   object \n",
            " 6   Locality Verbose      9551 non-null   object \n",
            " 7   Longitude             9551 non-null   float64\n",
            " 8   Latitude              9551 non-null   float64\n",
            " 9   Cuisines              9542 non-null   object \n",
            " 10  Average Cost for two  9551 non-null   int64  \n",
            " 11  Currency              9551 non-null   object \n",
            " 12  Has Table booking     9551 non-null   object \n",
            " 13  Has Online delivery   9551 non-null   object \n",
            " 14  Is delivering now     9551 non-null   object \n",
            " 15  Switch to order menu  9551 non-null   object \n",
            " 16  Price range           9551 non-null   int64  \n",
            " 17  Aggregate rating      9551 non-null   float64\n",
            " 18  Rating color          9551 non-null   object \n",
            " 19  Rating text           9551 non-null   object \n",
            " 20  Votes                 9551 non-null   int64  \n",
            "dtypes: float64(3), int64(5), object(13)\n",
            "memory usage: 1.5+ MB\n",
            "None\n"
          ]
        }
      ]
    },
    {
      "cell_type": "code",
      "source": [],
      "metadata": {
        "id": "rFQ5CujsuNBa"
      },
      "execution_count": null,
      "outputs": []
    }
  ]
}